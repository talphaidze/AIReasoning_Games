{
  "cells": [
    {
      "cell_type": "markdown",
      "metadata": {
        "id": "SMOeYqKQEWAh"
      },
      "source": [
        "Please remember to update the token. For multiplayer to work, each player needs a different token. Please feel free to use multiple tokens in the same group."
      ]
    },
    {
      "cell_type": "code",
      "execution_count": null,
      "metadata": {
        "id": "jMHiHG2lEUJo"
      },
      "outputs": [],
      "source": [
        "#Update your token\n",
        "STUDENT_TOKEN = 'GROUP 1'"
      ]
    },
    {
      "cell_type": "markdown",
      "metadata": {
        "id": "5k9_BgjreDwW"
      },
      "source": [
        "# Base Code"
      ]
    },
    {
      "cell_type": "markdown",
      "metadata": {
        "id": "Kv-G27nSEQ2f"
      },
      "source": [
        "There should be no need to change the code below."
      ]
    },
    {
      "cell_type": "code",
      "execution_count": null,
      "metadata": {
        "id": "z9Bf9x8JNee2"
      },
      "outputs": [],
      "source": [
        "## ignore this code, just used for submission\n",
        "import requests\n",
        "import pprint\n",
        "import json\n",
        "import random\n",
        "import time\n",
        "from copy import copy, deepcopy\n",
        "\n",
        "class Game:\n",
        "  def __init__(self, state, status, player):\n",
        "    self.state = state\n",
        "    self.status = status\n",
        "    self.player = player\n",
        "\n",
        "  def is_waiting(self):\n",
        "    return self.status == 'waiting'\n",
        "\n",
        "  def is_end(self):\n",
        "    return self.status == 'complete'\n",
        "  \n",
        "  def get_board(self):\n",
        "    return json.loads(self.state)\n",
        "\n",
        "  def get_winner(self):\n",
        "    return None\n",
        "\n",
        "  def actions(self):\n",
        "    return []\n",
        "\n",
        "  def print(self):\n",
        "    print(self.state)\n",
        "\n",
        "def new_game(game_type, multi_player = False):\n",
        "  for _ in range(10):\n",
        "    r = requests.get('https://emarchiori.eu.pythonanywhere.com/new-game?TOKEN=%s&game-type=%s&multi-player=%s' % (STUDENT_TOKEN, game_type, 'True' if multi_player else 'False'))\n",
        "    if r.status_code == 200:\n",
        "      return r.json()['game-id']\n",
        "    print(r.content)\n",
        "\n",
        "def join_game(game_type, game_id):\n",
        "  for _ in range(10):\n",
        "    r = requests.get('https://emarchiori.eu.pythonanywhere.com/join-game?TOKEN=%s&game-type=%s&game-id=%s' % (STUDENT_TOKEN, game_type, game_id))\n",
        "    if r.status_code == 200:\n",
        "      return r.json()['player']\n",
        "    print(r.content)\n",
        "\n",
        "def game_state(game_type, game_id, GameClass):\n",
        "  for _ in range(10):\n",
        "    r = requests.get('https://emarchiori.eu.pythonanywhere.com/game-state?TOKEN=%s&game-type=%s&game-id=%s' % (STUDENT_TOKEN, game_type, game_id))\n",
        "    if r.status_code == 200:\n",
        "      return GameClass(r.json()['state'], r.json()['status'], r.json()['player'])\n",
        "    print(r.content)\n",
        "\n",
        "def update_game(game_type, game_id, player, move):\n",
        "  for _ in range(10):\n",
        "    r = requests.get('https://emarchiori.eu.pythonanywhere.com/update-game?TOKEN=%s&game-type=%s&game-id=%s&player=%s&move=%s' % (STUDENT_TOKEN, game_type, game_id, player, move))\n",
        "    if r.status_code == 200:\n",
        "      return r.content\n",
        "    print(r.content)\n",
        "\n",
        "def game_loop(solver, GameClass, game_type, multi_player = False, id = None):\n",
        "  while id == None:\n",
        "    print('Creating new game...')\n",
        "    id = new_game(game_type, multi_player)\n",
        "\n",
        "  print('Joining game with id: %s' % id)\n",
        "  player = join_game(game_type, id)\n",
        "\n",
        "  print('Playing as %s' % player)\n",
        "\n",
        "  game = game_state(game_type, id, GameClass)\n",
        "  print('Waiting for the other player to join...')\n",
        "  while game.is_waiting():\n",
        "    time.sleep(10)\n",
        "    game = game_state(game_type, id, GameClass)\n",
        "\n",
        "  while True:\n",
        "    game = game_state(game_type, id, GameClass)\n",
        "    game.print_game()\n",
        "    if game.is_end():\n",
        "      if game.player == '-':\n",
        "        print('Server says there is a draw')\n",
        "      else:\n",
        "        print('Server says your agent ' + ('WON' if game.player == player else 'LOST'))\n",
        "      return\n",
        "    if game.player == player:\n",
        "      print('Making next move...')\n",
        "      move = solver(game)\n",
        "      print(move)\n",
        "      update_result = update_game(game_type, id, player, json.dumps(move))\n",
        "      print(update_result)\n",
        "    else:\n",
        "      time.sleep(2)"
      ]
    },
    {
      "cell_type": "code",
      "execution_count": null,
      "metadata": {
        "id": "uP9QJSL_arDf"
      },
      "outputs": [],
      "source": [
        "def game_loop_test(solver, GameClass, game_type, multi_player = False, id = None):\n",
        "  while id == None:\n",
        "    id = new_game(game_type, multi_player)\n",
        "\n",
        "  player = join_game(game_type, id)\n",
        "\n",
        "\n",
        "  game = game_state(game_type, id, GameClass)\n",
        "  while game.is_waiting():\n",
        "    time.sleep(10)\n",
        "    game = game_state(game_type, id, GameClass)\n",
        "\n",
        "  while True:\n",
        "    game = game_state(game_type, id, GameClass)\n",
        "    if game.is_end():\n",
        "      if game.player == '-':\n",
        "        return 0\n",
        "      else:\n",
        "        if game.player == player:\n",
        "          return 1\n",
        "        else: \n",
        "          return 0\n",
        "      return\n",
        "    if game.player == player:\n",
        "      move = solver(game)\n",
        "      update_result = update_game(game_type, id, player, json.dumps(move))\n",
        "    else:\n",
        "      time.sleep(2)"
      ]
    },
    {
      "cell_type": "markdown",
      "metadata": {
        "id": "bkmvv9xnEfix"
      },
      "source": [
        "There is almost certainly no need to change this code, but if you must you can."
      ]
    },
    {
      "cell_type": "code",
      "execution_count": null,
      "metadata": {
        "id": "r_zr2XPCyKyl"
      },
      "outputs": [],
      "source": [
        "from functools import reduce\n",
        "from copy import copy, deepcopy\n",
        "import json\n",
        "import random\n",
        "\n",
        "class Clobber(Game):\n",
        "  def __init__(self, state, status, player):\n",
        "    Game.__init__(self, state, status, player)\n",
        "\n",
        "  def actions(self):\n",
        "    return [] # this should return the possible actions\n",
        "\n",
        "  def get_winner(self):\n",
        "    return '.' # this should return the actual winner\n",
        "\n",
        "  def other_player(self):\n",
        "    if self.player == 'O': return 'X'\n",
        "    if self.player == 'X': return 'O'\n",
        "\n",
        "  def print_game(self):\n",
        "    for row in self.get_board():\n",
        "      print(row)\n"
      ]
    },
    {
      "cell_type": "markdown",
      "metadata": {
        "id": "22A1Mu0od8aE"
      },
      "source": [
        "# Random Solver"
      ]
    },
    {
      "cell_type": "markdown",
      "metadata": {
        "id": "BlaDsHFtEkme"
      },
      "source": [
        "Instead of changing this code for a random solver, write new code that also returns the next move. For example, create a new \"amazing_solver\".\n",
        "\n",
        "Solvers need to return a list or tuple of 3 elements: row, col and dir. Dir can be 'R', 'L', 'U', 'D'"
      ]
    },
    {
      "cell_type": "code",
      "execution_count": null,
      "metadata": {
        "id": "ZeCaSFQtGw3f"
      },
      "outputs": [],
      "source": [
        "def random_solver(game):\n",
        "  board = game.get_board()\n",
        "  player = game.player\n",
        "  other_player = game.other_player()\n",
        "  opts = []\n",
        "  for row in range(len(board)):\n",
        "    for col in range(len(board[row])):\n",
        "      if board[row][col] == player:\n",
        "        if row + 1 < len(board) and board[row + 1][col] == other_player:\n",
        "          opts.append((row, col, 'D'))\n",
        "        if col + 1 < len(board[row]) and board[row][col + 1] == other_player:\n",
        "          opts.append((row, col, 'R'))\n",
        "        if row - 1 >= 0 and board[row - 1][col] == other_player:\n",
        "          opts.append((row, col, 'U'))\n",
        "        if col - 1 >= 0 and board[row][col - 1] == other_player:\n",
        "          opts.append((row, col, 'L'))\n",
        "  return opts[random.randint(0, len(opts) - 1)]"
      ]
    },
    {
      "cell_type": "markdown",
      "metadata": {
        "id": "F30IkgA6Evc0"
      },
      "source": [
        "This code is the one that starts the game. In different games you will need to change the class (Clobber is the one for clobber game).\n",
        "\n",
        "The 'multi_player' variable can be True or False. If you set multi_palyer to True, you will need to provide a game_id against which to play or if using None a new game will be created (which another player can join)."
      ]
    },
    {
      "cell_type": "code",
      "execution_count": null,
      "metadata": {
        "id": "HbEE9dFYG_Mw"
      },
      "outputs": [],
      "source": [
        "game_loop(random_solver, Clobber, 'clobber', multi_player=False, id=None)"
      ]
    },
    {
      "cell_type": "markdown",
      "metadata": {
        "id": "1AA8Tu7um8lF"
      },
      "source": [
        "# Solver V12 (The Chosen One)"
      ]
    },
    {
      "cell_type": "code",
      "execution_count": null,
      "metadata": {
        "id": "oA7lhMeHm_oM"
      },
      "outputs": [],
      "source": [
        "def number_of_moves(input_board, player, other_player): # This function calculates the number of moves available in the board for the player\n",
        "  board = deepcopy(input_board) # This creates a full copy of the board for us to manipulate\n",
        "  moves = 0 # We initiate our moves variable\n",
        "  for row in range(len(board)): # We iterare throught the board using for loops\n",
        "    for col in range(len(board[row])):\n",
        "      if board[row][col] == player:\n",
        "        if row + 1 < len(board) and board[row + 1][col] == other_player:\n",
        "          moves += 1 # If we find a possible move, we add 1 to our moves variable\n",
        "        if col + 1 < len(board[row]) and board[row][col + 1] == other_player:\n",
        "          moves += 1\n",
        "        if row - 1 >= 0 and board[row - 1][col] == other_player:\n",
        "          moves += 1\n",
        "        if col - 1 >= 0 and board[row][col - 1] == other_player:\n",
        "          moves += 1\n",
        "  return moves # We return our moves variable\n",
        "\n",
        "def available_moves(input_board, player, other_player): # This function returns a list with all the available moves that the player can do\n",
        "  board = deepcopy(input_board) # This creates a full copy of the board for us to manipulate\n",
        "  a_moves = [] # We initiate our moves list\n",
        "  for row in range(len(board)): # We iterate through the board using for loops\n",
        "    for col in range(len(board[row])):\n",
        "      if board[row][col] == player:\n",
        "        if row + 1 < len(board) and board[row + 1][col] == other_player:\n",
        "          a_moves.append((row, col, 'D')) # If we find a possible move we append it to the list\n",
        "        if col + 1 < len(board[row]) and board[row][col + 1] == other_player:\n",
        "          a_moves.append((row, col, 'R'))\n",
        "        if row - 1 >= 0 and board[row - 1][col] == other_player:\n",
        "          a_moves.append((row, col, 'U'))\n",
        "        if col - 1 >= 0 and board[row][col - 1] == other_player:\n",
        "          a_moves.append((row, col, 'L'))\n",
        "  return a_moves # We return the list of moves\n",
        "\n",
        "def move_preview_v12(input_board, player, move): # This function returns a new board to simulate what would happend if we make the selected move\n",
        "  board = deepcopy(input_board) # This creates a full copy of the board for us to manipulate\n",
        "  board[move[0]][move[1]] = '.' # We replace the spot on the board with a period\n",
        "  if move[2] == 'D': # Depending on how we are moving, we replace the other_player's spot with our player\n",
        "    board[move[0] + 1][move[1]] = player\n",
        "  if move[2] == 'R':\n",
        "    board[move[0]][move[1] + 1] = player\n",
        "  if move[2] == 'U':\n",
        "    board[move[0] - 1][move[1]] = player\n",
        "  if move[2] == 'L':\n",
        "    board[move[0]][move[1] - 1] = player\n",
        "  return board # We return the new board\n",
        "\n",
        "def solver_v12(game): # This is the main function of the algorithm\n",
        "  board = game.get_board() # We get the board, player and other_player from the game input\n",
        "  player = game.player\n",
        "  other_player = game.other_player()\n",
        "  value, move = max_value_v12(board, 3, player, other_player) # We initiate the MiniMax\n",
        "  return move # We return the selected move\n",
        "\n",
        "def max_value_v12(board, depth, player, other_player): # This is our max function\n",
        "  my_moves = number_of_moves(board, player, other_player) # We calculate our number of moves and the opponent's number of moves\n",
        "  other_moves = number_of_moves(board, other_player, player)\n",
        "  if depth == 0: # We check to see if the depth is equal to 0\n",
        "    if my_moves > other_moves: # If we have more moves than the opponent we return 1, else we return -1\n",
        "      return 1, None\n",
        "    else:\n",
        "      return -1, None\n",
        "  if my_moves == 0: # If our moves are 0, the game is over and we return 1. Else, the game is over and we return -1\n",
        "    return -1, None\n",
        "  if other_moves == 0:\n",
        "    return 1, None\n",
        "  win_options = {} # We create our win_options and lose_with_honor dictionary\n",
        "  lose_with_honor = {}\n",
        "  for action in available_moves(board, player, other_player): # We iterate through our list of available moves\n",
        "    preview = move_preview_v12(board, player, action) # We get the preview board according to our selected move\n",
        "    v2, a2 = min_value_v12(preview, depth-1, other_player, player) # We initiate the min function for that move\n",
        "    if v2 == 1: # If the function returns victory, we add the move to the win_options dictionary according to our heuristic, which consist of leaving the opponent with the least amount of moves as possible.\n",
        "      win_options[action] = number_of_moves(preview, other_player, player)\n",
        "    elif v2 == -1: # Else, we add it to our lose_with_honor dictionary\n",
        "      lose_with_honor[action] = number_of_moves(preview, other_player, player)\n",
        "  if len(win_options) == 0: # If we don't have win options, we get the min from our lose_with_honor\n",
        "    move = min(lose_with_honor, key=lose_with_honor.get)\n",
        "  else: # Else, we use our win_options\n",
        "    move = min(win_options, key=win_options.get)\n",
        "  value = v2 # We define our value\n",
        "  return value, move # We return our move and value\n",
        "  \n",
        "def min_value_v12(board, depth, player, other_player): # This is our min function\n",
        "  my_moves = number_of_moves(board, player, other_player) # We calculate our number of moves and the opponent's number of moves\n",
        "  other_moves = number_of_moves(board, other_player, player)\n",
        "  if depth == 0: # We check to see if the depth is equal to 0\n",
        "    if my_moves > other_moves: # If the opponent has more moves than us we return -1, else we return 1\n",
        "      return -1, None\n",
        "    else:\n",
        "      return 1, None\n",
        "  if my_moves == 0: # If the opponent's moves are 0, the game is over and we return -1. Else, the game is over and we return 1\n",
        "    return 1, None\n",
        "  if other_moves == 0:\n",
        "    return -1, None\n",
        "  win_options = {} # We create our win_options and lose_with_honor dictionary\n",
        "  lose_with_honor = {}\n",
        "  for action in available_moves(board, player, other_player): # We iterate through our list of available moves\n",
        "    preview = move_preview_v12(board, player, action) # We get the preview board according to our selected move\n",
        "    v2, a2 = max_value_v12(preview, depth-1, other_player, player) # We initiate the max function for that move\n",
        "    if v2 == -1: # If the function returns victory for the other_player, we add the move to the win_options dictionary according to our heuristic, which consist of leaving the opponent with the least amount of moves as possible.\n",
        "      win_options[action] = number_of_moves(preview, other_player, player)\n",
        "    elif v2 == 1: # Else, we add it to our lose_with_honor dictionary\n",
        "      lose_with_honor[action] = number_of_moves(preview, other_player, player)\n",
        "  if len(win_options) == 0: # If we don't have win options, we get the min from our lose_with_honor\n",
        "    move = min(lose_with_honor, key=lose_with_honor.get)\n",
        "  else: # Else, we use our win_options\n",
        "    move = min(win_options, key=win_options.get)\n",
        "  value = v2 # We define our value\n",
        "  return value, move # We return our move and value"
      ]
    },
    {
      "cell_type": "markdown",
      "metadata": {
        "id": "78YE6QFAd2Oc"
      },
      "source": [
        "# Tester"
      ]
    },
    {
      "cell_type": "code",
      "execution_count": null,
      "metadata": {
        "id": "lFl56gvUVvks"
      },
      "outputs": [],
      "source": [
        "game_loop(solver_v12, Clobber, 'clobber', multi_player=False, id=None)"
      ]
    },
    {
      "cell_type": "code",
      "execution_count": null,
      "metadata": {
        "id": "oQA24i15JLH3"
      },
      "outputs": [],
      "source": [
        "i = 0\n",
        "won = 0\n",
        "while i < 5:\n",
        "  won += game_loop_test(solver_v12, Clobber, 'clobber', multi_player=False, id=None)\n",
        "  i += 1\n",
        "  print(i)\n",
        "print(\"The algorithm won \", won, \" times!\")"
      ]
    }
  ],
  "metadata": {
    "colab": {
      "collapsed_sections": [
        "22A1Mu0od8aE",
        "OQZzICt_dOMu",
        "_uygOxA9dkrc",
        "OgAZmaU-fv4V",
        "IbB45ud3gcqh",
        "NdZozFbeB-GC",
        "0vKHdIwpYvy_",
        "bNEJp3pzZFUk",
        "NzHq8yQbZICh",
        "K3JTEJRH_UFT",
        "y2-NWfq50aJH"
      ],
      "provenance": []
    },
    "kernelspec": {
      "display_name": "Python 3.11.0 64-bit",
      "language": "python",
      "name": "python3"
    },
    "language_info": {
      "name": "python",
      "version": "3.11.0"
    },
    "vscode": {
      "interpreter": {
        "hash": "aee8b7b246df8f9039afb4144a1f6fd8d2ca17a180786b69acc140d282b71a49"
      }
    }
  },
  "nbformat": 4,
  "nbformat_minor": 0
}
